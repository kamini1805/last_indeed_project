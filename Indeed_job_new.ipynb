{
 "cells": [
  {
   "cell_type": "code",
   "execution_count": null,
   "metadata": {},
   "outputs": [],
   "source": [
    "import pandas as pd\n",
    "import selenium\n",
    "from selenium import webdriver\n",
    "from selenium.webdriver.common.keys import Keys\n",
    "import time\n",
    "import string\n",
    "from datetime import datetime\n",
    "from datetime import date\n",
    "start=0\n",
    "end=68\n",
    "driver=webdriver.Chrome(r\"C:\\Users\\dell\\Downloads\\ML.data\\chromedriver_win32\\chromedriver.exe\")\n",
    "driver.get('https://in.indeed.com/?r=us')\n",
    "time.sleep(2)\n",
    "driver.maximize_window()\n",
    "driver.find_element_by_id(\"text-input-what\").send_keys(\"Data Analyst\")\n",
    "time.sleep(2)\n",
    "driver.find_element_by_id(\"text-input-where\").send_keys(\"Bangalore\")\n",
    "time.sleep(2)\n",
    "driver.find_element_by_xpath(\"//button[@class='icl-Button icl-Button--primary icl-Button--md icl-WhatWhere-button']\").click()\n",
    "\n",
    "Job_title=[]\n",
    "Company_name=[]\n",
    "Location=[]\n",
    "Salary=[]\n",
    "Date_of_jobpost=[]\n",
    "Job_desc=[]\n",
    "Crawl_time=[]\n",
    "Crawl_date=[]\n",
    "\n",
    "for page in range(start,end):\n",
    "    name=driver.find_elements_by_xpath(\"//h2[@class='title']\")\n",
    "    for i in name:\n",
    "        Job_title.append(i.text)\n",
    "    comp_name=driver.find_elements_by_xpath(\"//div[@class='sjcl']/div[1]\")\n",
    "    for i in comp_name:\n",
    "        Company_name.append(i.text)\n",
    "    loc=driver.find_elements_by_xpath(\"//div[@class='location accessible-contrast-color-location']\")  \n",
    "    for i in loc:\n",
    "        Location.append(i.text)\n",
    "    sal=driver.find_elements_by_xpath(\"//span[@class='salaryText']\")\n",
    "    for i in sal:\n",
    "        if i.text is None:\n",
    "            Salary.append(\"--\")\n",
    "        else:\n",
    "            Salary.append(i.text)\n",
    "    doj=driver.find_elements_by_xpath(\"//span[@class='date']\")\n",
    "    for i in doj:\n",
    "        Date_of_jobpost.append(i.text)\n",
    "    job_des=driver.find_elements_by_xpath(\"//div[@class='summary']/ul/li[1]\")\n",
    "    for i in job_des:\n",
    "        if i.text is None:\n",
    "            Job_desc.append(\"--\")\n",
    "        else:    \n",
    "            Job_desc.append(i.text)\n",
    "    timestamp=datetime.now()\n",
    "    Crawl_time.append(timestamp.strftime(\"%H:%M:%S\"))\n",
    "    date=date.today()\n",
    "    Crawl_date.append(date.strftime(\"%d/%m/%Y\"))\n",
    "    nxt_button=driver.find_element_by_xpath(\"//ul[@class='pagination-list']/li[4]/b\").click()\n",
    "    \n",
    "   "
   ]
  },
  {
   "cell_type": "code",
   "execution_count": null,
   "metadata": {},
   "outputs": [],
   "source": [
    "# creating a dataframe\n",
    "indeed_job=pd.DataFrame({'Job_title':Job_title,\n",
    "                     'Company_name':Company_name,\n",
    "                    'Location':Location,\n",
    "                   'Salary':Salary'\n",
    "                    'Date_of_jobpost':Date_of_jobpost'\n",
    "                   'Job_desc':Job_desc,\n",
    "                   'Crawl_time':Crawl_time,\n",
    "                   'Crawl_date':Crawl_date })\n",
    "print(indeed_job)"
   ]
  },
  {
   "cell_type": "code",
   "execution_count": null,
   "metadata": {},
   "outputs": [],
   "source": []
  }
 ],
 "metadata": {
  "kernelspec": {
   "display_name": "Python 3",
   "language": "python",
   "name": "python3"
  },
  "language_info": {
   "codemirror_mode": {
    "name": "ipython",
    "version": 3
   },
   "file_extension": ".py",
   "mimetype": "text/x-python",
   "name": "python",
   "nbconvert_exporter": "python",
   "pygments_lexer": "ipython3",
   "version": "3.7.6"
  }
 },
 "nbformat": 4,
 "nbformat_minor": 4
}
